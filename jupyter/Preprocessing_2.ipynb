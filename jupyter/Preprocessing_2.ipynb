{
 "cells": [
  {
   "cell_type": "code",
   "execution_count": 1,
   "id": "ad696348-e13d-42b8-a024-63b7b2dbd1b7",
   "metadata": {},
   "outputs": [],
   "source": [
    "import re\n",
    "import pandas as pd\n",
    "import numpy as np"
   ]
  },
  {
   "cell_type": "code",
   "execution_count": 73,
   "id": "0f156b46-2c86-457a-8a7c-8b92210f5ae5",
   "metadata": {},
   "outputs": [],
   "source": [
    "def starts_with_date_and_time(string):\n",
    "    pattern = '^([0-9]+)(/)([0-9]+)(/)([0-9][0-9]) ([0-9]+):([0-9][0-9]) -'\n",
    "    result = re.match(pattern, string)\n",
    "    if result:\n",
    "        return True\n",
    "    return False"
   ]
  },
  {
   "cell_type": "code",
   "execution_count": 74,
   "id": "6b11c6fa-3383-4a04-baad-b3b260b850dd",
   "metadata": {},
   "outputs": [],
   "source": [
    "def get_data_point(line):   \n",
    "    splitLine = line.split(' - ')\n",
    "    dateTime = splitLine[0]\n",
    "    date, time = dateTime.split(' ') \n",
    "    message = ' '.join(splitLine[1:])\n",
    "    splitMessage = message.split(': ')\n",
    "    author = splitMessage[0]\n",
    "    message = ' '.join(splitMessage[1:])\n",
    "    return date, time, author, message"
   ]
  },
  {
   "cell_type": "code",
   "execution_count": 75,
   "id": "4bc431a9-44f9-4e3f-9593-d6c9758b6f22",
   "metadata": {},
   "outputs": [],
   "source": [
    "parsedData = [] # List to keep track of data so it can be used by a Pandas dataframe\n",
    "### Uploading exported chat file\n",
    "conversationPath = '../data/all.txt' # chat file\n",
    "with open(conversationPath, encoding=\"utf-8\") as fp:\n",
    "    ### Skipping first line of the file because contains information related to something about end-to-end encryption\n",
    "    fp.readline() \n",
    "    messageBuffer = [] \n",
    "    date, time, author = None, None, None\n",
    "    while True:\n",
    "        line = fp.readline() \n",
    "        if not line: \n",
    "            break\n",
    "        line = line.strip()\n",
    "        if starts_with_date_and_time(line):\n",
    "            if len(messageBuffer) > 0: \n",
    "                parsedData.append([date, time, author, ' '.join(messageBuffer)]) \n",
    "            messageBuffer.clear()\n",
    "            date, time, author, message = get_data_point(line) \n",
    "            messageBuffer.append(message)\n",
    "        else:\n",
    "            messageBuffer.append(line)\n",
    "df = pd.DataFrame(parsedData, columns=['Date', 'Time', 'Author', 'Message']) # Initialising a pandas Dataframe.\n",
    "### changing datatype of \"Date\" column.\n",
    "df[\"Date\"] = pd.to_datetime(df[\"Date\"])\n",
    "df[\"Time\"] = pd.to_datetime(df[\"Time\"], format='%H%M', errors='ignore')"
   ]
  },
  {
   "cell_type": "code",
   "execution_count": 76,
   "id": "9cd6048a-8751-45d0-bced-0512fb2afc93",
   "metadata": {},
   "outputs": [
    {
     "data": {
      "text/html": [
       "<div>\n",
       "<style scoped>\n",
       "    .dataframe tbody tr th:only-of-type {\n",
       "        vertical-align: middle;\n",
       "    }\n",
       "\n",
       "    .dataframe tbody tr th {\n",
       "        vertical-align: top;\n",
       "    }\n",
       "\n",
       "    .dataframe thead th {\n",
       "        text-align: right;\n",
       "    }\n",
       "</style>\n",
       "<table border=\"1\" class=\"dataframe\">\n",
       "  <thead>\n",
       "    <tr style=\"text-align: right;\">\n",
       "      <th></th>\n",
       "      <th>Date</th>\n",
       "      <th>Time</th>\n",
       "      <th>Author</th>\n",
       "      <th>Message</th>\n",
       "    </tr>\n",
       "  </thead>\n",
       "  <tbody>\n",
       "    <tr>\n",
       "      <th>0</th>\n",
       "      <td>2019-12-20</td>\n",
       "      <td>21:17</td>\n",
       "      <td>Leticia Olábarri</td>\n",
       "      <td>Adri</td>\n",
       "    </tr>\n",
       "    <tr>\n",
       "      <th>1</th>\n",
       "      <td>2019-12-20</td>\n",
       "      <td>21:17</td>\n",
       "      <td>Leticia Olábarri</td>\n",
       "      <td>¿Vienes?</td>\n",
       "    </tr>\n",
       "    <tr>\n",
       "      <th>2</th>\n",
       "      <td>2019-12-20</td>\n",
       "      <td>22:02</td>\n",
       "      <td>Adri Ávalos</td>\n",
       "      <td>Sí 😬</td>\n",
       "    </tr>\n",
       "    <tr>\n",
       "      <th>3</th>\n",
       "      <td>2019-12-20</td>\n",
       "      <td>22:03</td>\n",
       "      <td>Adri Ávalos</td>\n",
       "      <td>Ya voy</td>\n",
       "    </tr>\n",
       "    <tr>\n",
       "      <th>4</th>\n",
       "      <td>2019-12-20</td>\n",
       "      <td>22:03</td>\n",
       "      <td>Adri Ávalos</td>\n",
       "      <td>Me he liado un pelin</td>\n",
       "    </tr>\n",
       "  </tbody>\n",
       "</table>\n",
       "</div>"
      ],
      "text/plain": [
       "        Date   Time            Author               Message\n",
       "0 2019-12-20  21:17  Leticia Olábarri                  Adri\n",
       "1 2019-12-20  21:17  Leticia Olábarri              ¿Vienes?\n",
       "2 2019-12-20  22:02       Adri Ávalos                  Sí 😬\n",
       "3 2019-12-20  22:03       Adri Ávalos                Ya voy\n",
       "4 2019-12-20  22:03       Adri Ávalos  Me he liado un pelin"
      ]
     },
     "execution_count": 76,
     "metadata": {},
     "output_type": "execute_result"
    }
   ],
   "source": [
    "df.head()"
   ]
  },
  {
   "cell_type": "code",
   "execution_count": 77,
   "id": "1083e316-f035-40f1-b652-d227e69cd6ee",
   "metadata": {},
   "outputs": [
    {
     "data": {
      "text/plain": [
       "(59390, 4)"
      ]
     },
     "execution_count": 77,
     "metadata": {},
     "output_type": "execute_result"
    }
   ],
   "source": [
    "df.shape"
   ]
  },
  {
   "cell_type": "code",
   "execution_count": 78,
   "id": "9bee42e1-fbee-4a3e-bb3a-8b35a5aaffc0",
   "metadata": {},
   "outputs": [
    {
     "data": {
      "text/plain": [
       "Date       datetime64[ns]\n",
       "Time               object\n",
       "Author             object\n",
       "Message            object\n",
       "dtype: object"
      ]
     },
     "execution_count": 78,
     "metadata": {},
     "output_type": "execute_result"
    }
   ],
   "source": [
    "df.dtypes"
   ]
  },
  {
   "cell_type": "code",
   "execution_count": null,
   "id": "007eb5e5-147a-45e3-a985-6e6881a8b267",
   "metadata": {},
   "outputs": [],
   "source": [
    "df[\"Author\"].unique()"
   ]
  },
  {
   "cell_type": "code",
   "execution_count": 80,
   "id": "c8e2ee32-1b16-4d33-a106-e4cd20e163bf",
   "metadata": {},
   "outputs": [],
   "source": [
    "df.drop(df[(df['Author'] == 'Los mensajes y las llamadas están cifrados de extremo a extremo. Nadie fuera de este chat, ni siquiera WhatsApp, puede leerlos ni escucharlos. Toca para obtener más información.')].index, inplace=True)\n",
    "df.drop(df[(df['Author'] == '\\u200eMarcela Duque cambió su número de teléfono. Toca para enviar un mensaje o añadir el nuevo número.')].index, inplace=True)\n",
    "df.drop(df[(df['Author'] == '\\u200eMarcela Duque cambió su número de teléfono. Actualmente te estás comunicando con su nuevo número. Toca para añadir a tus contactos.')].index, inplace=True)"
   ]
  },
  {
   "cell_type": "code",
   "execution_count": null,
   "id": "a760d475-6d03-494b-a66c-ee8b014916d8",
   "metadata": {},
   "outputs": [],
   "source": [
    "df[\"Author\"].unique()"
   ]
  },
  {
   "cell_type": "code",
   "execution_count": 81,
   "id": "ad693641-ddf0-4811-98f3-815872c8b5c4",
   "metadata": {},
   "outputs": [
    {
     "data": {
      "text/plain": [
       "(59150, 4)"
      ]
     },
     "execution_count": 81,
     "metadata": {},
     "output_type": "execute_result"
    }
   ],
   "source": [
    "df.shape"
   ]
  },
  {
   "cell_type": "code",
   "execution_count": 82,
   "id": "911a1929-ed9f-4662-abe7-152769f29636",
   "metadata": {},
   "outputs": [
    {
     "data": {
      "text/plain": [
       "240"
      ]
     },
     "execution_count": 82,
     "metadata": {},
     "output_type": "execute_result"
    }
   ],
   "source": [
    "authors = df[\"Author\"].unique()\n",
    "len(authors)"
   ]
  },
  {
   "cell_type": "code",
   "execution_count": 83,
   "id": "09799e03-3d9a-413b-be23-4597cc98bbf0",
   "metadata": {},
   "outputs": [],
   "source": [
    "df.drop(df[(df['Message'] == '<Multimedia omitido>')].index, inplace=True)"
   ]
  },
  {
   "cell_type": "code",
   "execution_count": 84,
   "id": "db430a2c-1324-41c9-ae2f-9166770a6af2",
   "metadata": {},
   "outputs": [
    {
     "data": {
      "text/plain": [
       "(55007, 4)"
      ]
     },
     "execution_count": 84,
     "metadata": {},
     "output_type": "execute_result"
    }
   ],
   "source": [
    "df.shape"
   ]
  },
  {
   "cell_type": "code",
   "execution_count": 85,
   "id": "1b7b6ed6-97e5-4a38-933b-73ae67ec0656",
   "metadata": {},
   "outputs": [],
   "source": [
    "df[\"Message total length\"] = df[\"Message\"].apply(lambda x: len(x))"
   ]
  },
  {
   "cell_type": "code",
   "execution_count": 86,
   "id": "bfa5dea2-975b-404f-90d1-39d8c4e48fa4",
   "metadata": {},
   "outputs": [
    {
     "data": {
      "text/html": [
       "<div>\n",
       "<style scoped>\n",
       "    .dataframe tbody tr th:only-of-type {\n",
       "        vertical-align: middle;\n",
       "    }\n",
       "\n",
       "    .dataframe tbody tr th {\n",
       "        vertical-align: top;\n",
       "    }\n",
       "\n",
       "    .dataframe thead th {\n",
       "        text-align: right;\n",
       "    }\n",
       "</style>\n",
       "<table border=\"1\" class=\"dataframe\">\n",
       "  <thead>\n",
       "    <tr style=\"text-align: right;\">\n",
       "      <th></th>\n",
       "      <th>Date</th>\n",
       "      <th>Time</th>\n",
       "      <th>Author</th>\n",
       "      <th>Message</th>\n",
       "      <th>Message total length</th>\n",
       "    </tr>\n",
       "  </thead>\n",
       "  <tbody>\n",
       "    <tr>\n",
       "      <th>0</th>\n",
       "      <td>2019-12-20</td>\n",
       "      <td>21:17</td>\n",
       "      <td>Leticia Olábarri</td>\n",
       "      <td>Adri</td>\n",
       "      <td>4</td>\n",
       "    </tr>\n",
       "    <tr>\n",
       "      <th>1</th>\n",
       "      <td>2019-12-20</td>\n",
       "      <td>21:17</td>\n",
       "      <td>Leticia Olábarri</td>\n",
       "      <td>¿Vienes?</td>\n",
       "      <td>8</td>\n",
       "    </tr>\n",
       "    <tr>\n",
       "      <th>2</th>\n",
       "      <td>2019-12-20</td>\n",
       "      <td>22:02</td>\n",
       "      <td>Adri Ávalos</td>\n",
       "      <td>Sí 😬</td>\n",
       "      <td>4</td>\n",
       "    </tr>\n",
       "    <tr>\n",
       "      <th>3</th>\n",
       "      <td>2019-12-20</td>\n",
       "      <td>22:03</td>\n",
       "      <td>Adri Ávalos</td>\n",
       "      <td>Ya voy</td>\n",
       "      <td>6</td>\n",
       "    </tr>\n",
       "    <tr>\n",
       "      <th>4</th>\n",
       "      <td>2019-12-20</td>\n",
       "      <td>22:03</td>\n",
       "      <td>Adri Ávalos</td>\n",
       "      <td>Me he liado un pelin</td>\n",
       "      <td>20</td>\n",
       "    </tr>\n",
       "  </tbody>\n",
       "</table>\n",
       "</div>"
      ],
      "text/plain": [
       "        Date   Time            Author               Message  \\\n",
       "0 2019-12-20  21:17  Leticia Olábarri                  Adri   \n",
       "1 2019-12-20  21:17  Leticia Olábarri              ¿Vienes?   \n",
       "2 2019-12-20  22:02       Adri Ávalos                  Sí 😬   \n",
       "3 2019-12-20  22:03       Adri Ávalos                Ya voy   \n",
       "4 2019-12-20  22:03       Adri Ávalos  Me he liado un pelin   \n",
       "\n",
       "   Message total length  \n",
       "0                     4  \n",
       "1                     8  \n",
       "2                     4  \n",
       "3                     6  \n",
       "4                    20  "
      ]
     },
     "execution_count": 86,
     "metadata": {},
     "output_type": "execute_result"
    }
   ],
   "source": [
    "df.head()"
   ]
  },
  {
   "cell_type": "code",
   "execution_count": 87,
   "id": "26c47a09-440e-446f-9011-8759cc87a630",
   "metadata": {},
   "outputs": [],
   "source": [
    "df.drop(df[(df['Message total length'] < 10)].index, inplace=True)"
   ]
  },
  {
   "cell_type": "code",
   "execution_count": 88,
   "id": "17d21fd9-4e48-4ba7-95ff-2d4533744c79",
   "metadata": {},
   "outputs": [
    {
     "data": {
      "text/plain": [
       "(43096, 5)"
      ]
     },
     "execution_count": 88,
     "metadata": {},
     "output_type": "execute_result"
    }
   ],
   "source": [
    "df.shape"
   ]
  },
  {
   "cell_type": "code",
   "execution_count": 89,
   "id": "3ec3de78-0916-4217-b2c2-87fd6fd534da",
   "metadata": {},
   "outputs": [],
   "source": [
    "def count_words(string):\n",
    "    word_list = string.split()\n",
    "\n",
    "    number_of_words = len(word_list)\n",
    "    return number_of_words"
   ]
  },
  {
   "cell_type": "code",
   "execution_count": 90,
   "id": "1604b021-2c5d-4b3d-bfc9-183060fc0282",
   "metadata": {},
   "outputs": [],
   "source": [
    "df[\"Number of words\"] = df[\"Message\"].apply(lambda x: count_words(x))"
   ]
  },
  {
   "cell_type": "code",
   "execution_count": 91,
   "id": "579ba80f-209c-4164-a5f1-1f6321540d3c",
   "metadata": {},
   "outputs": [
    {
     "data": {
      "text/html": [
       "<div>\n",
       "<style scoped>\n",
       "    .dataframe tbody tr th:only-of-type {\n",
       "        vertical-align: middle;\n",
       "    }\n",
       "\n",
       "    .dataframe tbody tr th {\n",
       "        vertical-align: top;\n",
       "    }\n",
       "\n",
       "    .dataframe thead th {\n",
       "        text-align: right;\n",
       "    }\n",
       "</style>\n",
       "<table border=\"1\" class=\"dataframe\">\n",
       "  <thead>\n",
       "    <tr style=\"text-align: right;\">\n",
       "      <th></th>\n",
       "      <th>Date</th>\n",
       "      <th>Time</th>\n",
       "      <th>Author</th>\n",
       "      <th>Message</th>\n",
       "      <th>Message total length</th>\n",
       "      <th>Number of words</th>\n",
       "    </tr>\n",
       "  </thead>\n",
       "  <tbody>\n",
       "    <tr>\n",
       "      <th>4</th>\n",
       "      <td>2019-12-20</td>\n",
       "      <td>22:03</td>\n",
       "      <td>Adri Ávalos</td>\n",
       "      <td>Me he liado un pelin</td>\n",
       "      <td>20</td>\n",
       "      <td>5</td>\n",
       "    </tr>\n",
       "    <tr>\n",
       "      <th>5</th>\n",
       "      <td>2019-12-20</td>\n",
       "      <td>22:09</td>\n",
       "      <td>Leticia Olábarri</td>\n",
       "      <td>Vaaaaaamooooooossssss</td>\n",
       "      <td>21</td>\n",
       "      <td>1</td>\n",
       "    </tr>\n",
       "    <tr>\n",
       "      <th>7</th>\n",
       "      <td>2019-12-20</td>\n",
       "      <td>22:14</td>\n",
       "      <td>Leticia Olábarri</td>\n",
       "      <td>Avisa cuando llegues</td>\n",
       "      <td>20</td>\n",
       "      <td>3</td>\n",
       "    </tr>\n",
       "    <tr>\n",
       "      <th>9</th>\n",
       "      <td>2019-12-20</td>\n",
       "      <td>22:15</td>\n",
       "      <td>Adri Ávalos</td>\n",
       "      <td>Por dónde estáis ?</td>\n",
       "      <td>18</td>\n",
       "      <td>4</td>\n",
       "    </tr>\n",
       "    <tr>\n",
       "      <th>11</th>\n",
       "      <td>2019-12-20</td>\n",
       "      <td>22:15</td>\n",
       "      <td>Leticia Olábarri</td>\n",
       "      <td>Enfrente del escenario</td>\n",
       "      <td>22</td>\n",
       "      <td>3</td>\n",
       "    </tr>\n",
       "  </tbody>\n",
       "</table>\n",
       "</div>"
      ],
      "text/plain": [
       "         Date   Time            Author                 Message  \\\n",
       "4  2019-12-20  22:03       Adri Ávalos    Me he liado un pelin   \n",
       "5  2019-12-20  22:09  Leticia Olábarri   Vaaaaaamooooooossssss   \n",
       "7  2019-12-20  22:14  Leticia Olábarri    Avisa cuando llegues   \n",
       "9  2019-12-20  22:15       Adri Ávalos      Por dónde estáis ?   \n",
       "11 2019-12-20  22:15  Leticia Olábarri  Enfrente del escenario   \n",
       "\n",
       "    Message total length  Number of words  \n",
       "4                     20                5  \n",
       "5                     21                1  \n",
       "7                     20                3  \n",
       "9                     18                4  \n",
       "11                    22                3  "
      ]
     },
     "execution_count": 91,
     "metadata": {},
     "output_type": "execute_result"
    }
   ],
   "source": [
    "df.head()"
   ]
  },
  {
   "cell_type": "code",
   "execution_count": 92,
   "id": "7cb1f9e1-e430-4dca-a1df-1cba77106c4f",
   "metadata": {},
   "outputs": [],
   "source": [
    "def count_intro_signs(string):\n",
    "    count = 0\n",
    "    for i in string:\n",
    "        if (i == \"¿\") or (i == \"¡\"):\n",
    "            count = count + 1\n",
    "    return count"
   ]
  },
  {
   "cell_type": "code",
   "execution_count": 93,
   "id": "b7578ca2-7207-4cf1-b0c5-9f1f7c985c89",
   "metadata": {},
   "outputs": [],
   "source": [
    "df[\"Number of intro signs (¿ or ¡)\"] = df[\"Message\"].apply(lambda x: count_intro_signs(x))"
   ]
  },
  {
   "cell_type": "code",
   "execution_count": 94,
   "id": "9413870a-6dae-4b54-8542-6ba077248efe",
   "metadata": {},
   "outputs": [
    {
     "data": {
      "text/html": [
       "<div>\n",
       "<style scoped>\n",
       "    .dataframe tbody tr th:only-of-type {\n",
       "        vertical-align: middle;\n",
       "    }\n",
       "\n",
       "    .dataframe tbody tr th {\n",
       "        vertical-align: top;\n",
       "    }\n",
       "\n",
       "    .dataframe thead th {\n",
       "        text-align: right;\n",
       "    }\n",
       "</style>\n",
       "<table border=\"1\" class=\"dataframe\">\n",
       "  <thead>\n",
       "    <tr style=\"text-align: right;\">\n",
       "      <th></th>\n",
       "      <th>Date</th>\n",
       "      <th>Time</th>\n",
       "      <th>Author</th>\n",
       "      <th>Message</th>\n",
       "      <th>Message total length</th>\n",
       "      <th>Number of words</th>\n",
       "      <th>Number of intro signs (¿ or ¡)</th>\n",
       "    </tr>\n",
       "  </thead>\n",
       "  <tbody>\n",
       "    <tr>\n",
       "      <th>4</th>\n",
       "      <td>2019-12-20</td>\n",
       "      <td>22:03</td>\n",
       "      <td>Adri Ávalos</td>\n",
       "      <td>Me he liado un pelin</td>\n",
       "      <td>20</td>\n",
       "      <td>5</td>\n",
       "      <td>0</td>\n",
       "    </tr>\n",
       "    <tr>\n",
       "      <th>5</th>\n",
       "      <td>2019-12-20</td>\n",
       "      <td>22:09</td>\n",
       "      <td>Leticia Olábarri</td>\n",
       "      <td>Vaaaaaamooooooossssss</td>\n",
       "      <td>21</td>\n",
       "      <td>1</td>\n",
       "      <td>0</td>\n",
       "    </tr>\n",
       "    <tr>\n",
       "      <th>7</th>\n",
       "      <td>2019-12-20</td>\n",
       "      <td>22:14</td>\n",
       "      <td>Leticia Olábarri</td>\n",
       "      <td>Avisa cuando llegues</td>\n",
       "      <td>20</td>\n",
       "      <td>3</td>\n",
       "      <td>0</td>\n",
       "    </tr>\n",
       "    <tr>\n",
       "      <th>9</th>\n",
       "      <td>2019-12-20</td>\n",
       "      <td>22:15</td>\n",
       "      <td>Adri Ávalos</td>\n",
       "      <td>Por dónde estáis ?</td>\n",
       "      <td>18</td>\n",
       "      <td>4</td>\n",
       "      <td>0</td>\n",
       "    </tr>\n",
       "    <tr>\n",
       "      <th>11</th>\n",
       "      <td>2019-12-20</td>\n",
       "      <td>22:15</td>\n",
       "      <td>Leticia Olábarri</td>\n",
       "      <td>Enfrente del escenario</td>\n",
       "      <td>22</td>\n",
       "      <td>3</td>\n",
       "      <td>0</td>\n",
       "    </tr>\n",
       "  </tbody>\n",
       "</table>\n",
       "</div>"
      ],
      "text/plain": [
       "         Date   Time            Author                 Message  \\\n",
       "4  2019-12-20  22:03       Adri Ávalos    Me he liado un pelin   \n",
       "5  2019-12-20  22:09  Leticia Olábarri   Vaaaaaamooooooossssss   \n",
       "7  2019-12-20  22:14  Leticia Olábarri    Avisa cuando llegues   \n",
       "9  2019-12-20  22:15       Adri Ávalos      Por dónde estáis ?   \n",
       "11 2019-12-20  22:15  Leticia Olábarri  Enfrente del escenario   \n",
       "\n",
       "    Message total length  Number of words  Number of intro signs (¿ or ¡)  \n",
       "4                     20                5                               0  \n",
       "5                     21                1                               0  \n",
       "7                     20                3                               0  \n",
       "9                     18                4                               0  \n",
       "11                    22                3                               0  "
      ]
     },
     "execution_count": 94,
     "metadata": {},
     "output_type": "execute_result"
    }
   ],
   "source": [
    "df.head()"
   ]
  },
  {
   "cell_type": "code",
   "execution_count": 95,
   "id": "b0880614-5bfc-4f23-89b3-602f0b03c10f",
   "metadata": {},
   "outputs": [],
   "source": [
    "def count_stops_and_commas(string):\n",
    "    count = 0\n",
    "    for i in string:\n",
    "        if (i == \".\") or (i == \",\"):\n",
    "            count = count + 1\n",
    "    return count"
   ]
  },
  {
   "cell_type": "code",
   "execution_count": 96,
   "id": "929d96ae-0ea6-422f-9699-86eb6d22b551",
   "metadata": {},
   "outputs": [],
   "source": [
    "df[\"Number of stops and commas\"] = df[\"Message\"].apply(lambda x: count_stops_and_commas(x))"
   ]
  },
  {
   "cell_type": "code",
   "execution_count": 97,
   "id": "5f0272bc-2c34-49e1-811d-1029e32e07a6",
   "metadata": {},
   "outputs": [
    {
     "data": {
      "text/html": [
       "<div>\n",
       "<style scoped>\n",
       "    .dataframe tbody tr th:only-of-type {\n",
       "        vertical-align: middle;\n",
       "    }\n",
       "\n",
       "    .dataframe tbody tr th {\n",
       "        vertical-align: top;\n",
       "    }\n",
       "\n",
       "    .dataframe thead th {\n",
       "        text-align: right;\n",
       "    }\n",
       "</style>\n",
       "<table border=\"1\" class=\"dataframe\">\n",
       "  <thead>\n",
       "    <tr style=\"text-align: right;\">\n",
       "      <th></th>\n",
       "      <th>Date</th>\n",
       "      <th>Time</th>\n",
       "      <th>Author</th>\n",
       "      <th>Message</th>\n",
       "      <th>Message total length</th>\n",
       "      <th>Number of words</th>\n",
       "      <th>Number of intro signs (¿ or ¡)</th>\n",
       "      <th>Number of stops and commas</th>\n",
       "    </tr>\n",
       "  </thead>\n",
       "  <tbody>\n",
       "    <tr>\n",
       "      <th>4</th>\n",
       "      <td>2019-12-20</td>\n",
       "      <td>22:03</td>\n",
       "      <td>Adri Ávalos</td>\n",
       "      <td>Me he liado un pelin</td>\n",
       "      <td>20</td>\n",
       "      <td>5</td>\n",
       "      <td>0</td>\n",
       "      <td>0</td>\n",
       "    </tr>\n",
       "    <tr>\n",
       "      <th>5</th>\n",
       "      <td>2019-12-20</td>\n",
       "      <td>22:09</td>\n",
       "      <td>Leticia Olábarri</td>\n",
       "      <td>Vaaaaaamooooooossssss</td>\n",
       "      <td>21</td>\n",
       "      <td>1</td>\n",
       "      <td>0</td>\n",
       "      <td>0</td>\n",
       "    </tr>\n",
       "    <tr>\n",
       "      <th>7</th>\n",
       "      <td>2019-12-20</td>\n",
       "      <td>22:14</td>\n",
       "      <td>Leticia Olábarri</td>\n",
       "      <td>Avisa cuando llegues</td>\n",
       "      <td>20</td>\n",
       "      <td>3</td>\n",
       "      <td>0</td>\n",
       "      <td>0</td>\n",
       "    </tr>\n",
       "    <tr>\n",
       "      <th>9</th>\n",
       "      <td>2019-12-20</td>\n",
       "      <td>22:15</td>\n",
       "      <td>Adri Ávalos</td>\n",
       "      <td>Por dónde estáis ?</td>\n",
       "      <td>18</td>\n",
       "      <td>4</td>\n",
       "      <td>0</td>\n",
       "      <td>0</td>\n",
       "    </tr>\n",
       "    <tr>\n",
       "      <th>11</th>\n",
       "      <td>2019-12-20</td>\n",
       "      <td>22:15</td>\n",
       "      <td>Leticia Olábarri</td>\n",
       "      <td>Enfrente del escenario</td>\n",
       "      <td>22</td>\n",
       "      <td>3</td>\n",
       "      <td>0</td>\n",
       "      <td>0</td>\n",
       "    </tr>\n",
       "  </tbody>\n",
       "</table>\n",
       "</div>"
      ],
      "text/plain": [
       "         Date   Time            Author                 Message  \\\n",
       "4  2019-12-20  22:03       Adri Ávalos    Me he liado un pelin   \n",
       "5  2019-12-20  22:09  Leticia Olábarri   Vaaaaaamooooooossssss   \n",
       "7  2019-12-20  22:14  Leticia Olábarri    Avisa cuando llegues   \n",
       "9  2019-12-20  22:15       Adri Ávalos      Por dónde estáis ?   \n",
       "11 2019-12-20  22:15  Leticia Olábarri  Enfrente del escenario   \n",
       "\n",
       "    Message total length  Number of words  Number of intro signs (¿ or ¡)  \\\n",
       "4                     20                5                               0   \n",
       "5                     21                1                               0   \n",
       "7                     20                3                               0   \n",
       "9                     18                4                               0   \n",
       "11                    22                3                               0   \n",
       "\n",
       "    Number of stops and commas  \n",
       "4                            0  \n",
       "5                            0  \n",
       "7                            0  \n",
       "9                            0  \n",
       "11                           0  "
      ]
     },
     "execution_count": 97,
     "metadata": {},
     "output_type": "execute_result"
    }
   ],
   "source": [
    "df.head()"
   ]
  },
  {
   "cell_type": "code",
   "execution_count": 98,
   "id": "ed06c0c2-92f3-457f-b02b-a72a5c6acd97",
   "metadata": {},
   "outputs": [],
   "source": [
    "def count_strange_words(string):\n",
    "    count = 0\n",
    "    word_list = string.split()\n",
    "    if (\" xfa \" in word_list) or (\" q \" in word_list):\n",
    "        count = count + 1"
   ]
  },
  {
   "cell_type": "code",
   "execution_count": 99,
   "id": "1a7a3bfb-41f2-4662-8e8d-868aa889311a",
   "metadata": {},
   "outputs": [],
   "source": [
    "df[\"Number of attypical abbreviations\"] = df[\"Message\"].apply(lambda x: count_strange_words(x))"
   ]
  },
  {
   "cell_type": "code",
   "execution_count": 100,
   "id": "0f5f696b-c91a-44d7-b24f-5151e955ddbb",
   "metadata": {},
   "outputs": [
    {
     "data": {
      "text/html": [
       "<div>\n",
       "<style scoped>\n",
       "    .dataframe tbody tr th:only-of-type {\n",
       "        vertical-align: middle;\n",
       "    }\n",
       "\n",
       "    .dataframe tbody tr th {\n",
       "        vertical-align: top;\n",
       "    }\n",
       "\n",
       "    .dataframe thead th {\n",
       "        text-align: right;\n",
       "    }\n",
       "</style>\n",
       "<table border=\"1\" class=\"dataframe\">\n",
       "  <thead>\n",
       "    <tr style=\"text-align: right;\">\n",
       "      <th></th>\n",
       "      <th>Date</th>\n",
       "      <th>Time</th>\n",
       "      <th>Author</th>\n",
       "      <th>Message</th>\n",
       "      <th>Message total length</th>\n",
       "      <th>Number of words</th>\n",
       "      <th>Number of intro signs (¿ or ¡)</th>\n",
       "      <th>Number of stops and commas</th>\n",
       "      <th>Number of attypical abbreviations</th>\n",
       "    </tr>\n",
       "  </thead>\n",
       "  <tbody>\n",
       "    <tr>\n",
       "      <th>4</th>\n",
       "      <td>2019-12-20</td>\n",
       "      <td>22:03</td>\n",
       "      <td>Adri Ávalos</td>\n",
       "      <td>Me he liado un pelin</td>\n",
       "      <td>20</td>\n",
       "      <td>5</td>\n",
       "      <td>0</td>\n",
       "      <td>0</td>\n",
       "      <td>None</td>\n",
       "    </tr>\n",
       "    <tr>\n",
       "      <th>5</th>\n",
       "      <td>2019-12-20</td>\n",
       "      <td>22:09</td>\n",
       "      <td>Leticia Olábarri</td>\n",
       "      <td>Vaaaaaamooooooossssss</td>\n",
       "      <td>21</td>\n",
       "      <td>1</td>\n",
       "      <td>0</td>\n",
       "      <td>0</td>\n",
       "      <td>None</td>\n",
       "    </tr>\n",
       "    <tr>\n",
       "      <th>7</th>\n",
       "      <td>2019-12-20</td>\n",
       "      <td>22:14</td>\n",
       "      <td>Leticia Olábarri</td>\n",
       "      <td>Avisa cuando llegues</td>\n",
       "      <td>20</td>\n",
       "      <td>3</td>\n",
       "      <td>0</td>\n",
       "      <td>0</td>\n",
       "      <td>None</td>\n",
       "    </tr>\n",
       "    <tr>\n",
       "      <th>9</th>\n",
       "      <td>2019-12-20</td>\n",
       "      <td>22:15</td>\n",
       "      <td>Adri Ávalos</td>\n",
       "      <td>Por dónde estáis ?</td>\n",
       "      <td>18</td>\n",
       "      <td>4</td>\n",
       "      <td>0</td>\n",
       "      <td>0</td>\n",
       "      <td>None</td>\n",
       "    </tr>\n",
       "    <tr>\n",
       "      <th>11</th>\n",
       "      <td>2019-12-20</td>\n",
       "      <td>22:15</td>\n",
       "      <td>Leticia Olábarri</td>\n",
       "      <td>Enfrente del escenario</td>\n",
       "      <td>22</td>\n",
       "      <td>3</td>\n",
       "      <td>0</td>\n",
       "      <td>0</td>\n",
       "      <td>None</td>\n",
       "    </tr>\n",
       "  </tbody>\n",
       "</table>\n",
       "</div>"
      ],
      "text/plain": [
       "         Date   Time            Author                 Message  \\\n",
       "4  2019-12-20  22:03       Adri Ávalos    Me he liado un pelin   \n",
       "5  2019-12-20  22:09  Leticia Olábarri   Vaaaaaamooooooossssss   \n",
       "7  2019-12-20  22:14  Leticia Olábarri    Avisa cuando llegues   \n",
       "9  2019-12-20  22:15       Adri Ávalos      Por dónde estáis ?   \n",
       "11 2019-12-20  22:15  Leticia Olábarri  Enfrente del escenario   \n",
       "\n",
       "    Message total length  Number of words  Number of intro signs (¿ or ¡)  \\\n",
       "4                     20                5                               0   \n",
       "5                     21                1                               0   \n",
       "7                     20                3                               0   \n",
       "9                     18                4                               0   \n",
       "11                    22                3                               0   \n",
       "\n",
       "    Number of stops and commas Number of attypical abbreviations  \n",
       "4                            0                              None  \n",
       "5                            0                              None  \n",
       "7                            0                              None  \n",
       "9                            0                              None  \n",
       "11                           0                              None  "
      ]
     },
     "execution_count": 100,
     "metadata": {},
     "output_type": "execute_result"
    }
   ],
   "source": [
    "df.head()"
   ]
  },
  {
   "cell_type": "code",
   "execution_count": null,
   "id": "be03c663-21d1-41ec-ada3-ad183f96e5b2",
   "metadata": {},
   "outputs": [],
   "source": []
  }
 ],
 "metadata": {
  "kernelspec": {
   "display_name": "Python 3 (ipykernel)",
   "language": "python",
   "name": "python3"
  },
  "language_info": {
   "codemirror_mode": {
    "name": "ipython",
    "version": 3
   },
   "file_extension": ".py",
   "mimetype": "text/x-python",
   "name": "python",
   "nbconvert_exporter": "python",
   "pygments_lexer": "ipython3",
   "version": "3.9.1"
  }
 },
 "nbformat": 4,
 "nbformat_minor": 5
}
