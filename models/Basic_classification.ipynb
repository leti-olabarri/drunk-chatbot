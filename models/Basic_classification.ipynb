{
  "nbformat": 4,
  "nbformat_minor": 0,
  "metadata": {
    "colab": {
      "name": "Basic_classification.ipynb",
      "provenance": [],
      "mount_file_id": "https://github.com/leti-olabarri/premier-fantasy/blob/feature%2Fload_data/models/Basic_classification.ipynb",
      "authorship_tag": "ABX9TyNCZi759PfMlHzyAO8FPViI",
      "include_colab_link": true
    },
    "kernelspec": {
      "name": "python3",
      "display_name": "Python 3"
    },
    "language_info": {
      "name": "python"
    }
  },
  "cells": [
    {
      "cell_type": "markdown",
      "metadata": {
        "id": "view-in-github",
        "colab_type": "text"
      },
      "source": [
        "<a href=\"https://colab.research.google.com/github/leti-olabarri/drunk-chatbot/blob/develop/models/Basic_classification.ipynb\" target=\"_parent\"><img src=\"https://colab.research.google.com/assets/colab-badge.svg\" alt=\"Open In Colab\"/></a>"
      ]
    },
    {
      "cell_type": "code",
      "metadata": {
        "id": "ta1JdrhZrx9e"
      },
      "source": [
        "import tensorflow as tf\n",
        "\n",
        "from tensorflow.keras import layers\n",
        "from tensorflow.keras import losses\n",
        "from tensorflow.keras import preprocessing\n",
        "\n",
        "import pandas as pd\n",
        "import matplotlib.pyplot as plt\n",
        "import re\n",
        "import numpy as np\n",
        "\n",
        "from sklearn.model_selection import train_test_split"
      ],
      "execution_count": 1,
      "outputs": []
    },
    {
      "cell_type": "code",
      "metadata": {
        "id": "wzU1SH04vw8X"
      },
      "source": [
        "!wget /resources/data/Vir.txt https://drive.google.com/file/d/1YUKdlBqhPnNW0h40bFVlDusgaAbESUrX/"
      ],
      "execution_count": null,
      "outputs": []
    },
    {
      "cell_type": "code",
      "metadata": {
        "id": "Xz_G_Zm3uImD"
      },
      "source": [
        "def startsWithDateAndTime(s):\n",
        "    pattern = '^([0-9]+)(/)([0-9]+)(/)([0-9][0-9]) ([0-9]+):([0-9][0-9]) -'\n",
        "    result = re.match(pattern, s)\n",
        "    if result:\n",
        "        return True\n",
        "    return False\n",
        "\n",
        "def getDataPoint(line):   \n",
        "    splitLine = line.split(' - ')\n",
        "    dateTime = splitLine[0]\n",
        "    date, time = dateTime.split(' ') \n",
        "    message = ' '.join(splitLine[1:])\n",
        "    splitMessage = message.split(': ')\n",
        "    author = splitMessage[0]\n",
        "    message = ' '.join(splitMessage[1:])\n",
        "    return date, time, author, message\n",
        "\n",
        "parsedData = [] # List to keep track of data so it can be used by a Pandas dataframe\n",
        "### Uploading exported chat file\n",
        "conversationPath = '../content/drive/MyDrive/data/all.txt' # chat file\n",
        "with open(conversationPath, encoding=\"utf-8\") as fp:\n",
        "    ### Skipping first line of the file because contains information related to something about end-to-end encryption\n",
        "    fp.readline() \n",
        "    messageBuffer = [] \n",
        "    date, time, author = None, None, None\n",
        "    while True:\n",
        "        line = fp.readline() \n",
        "        if not line: \n",
        "            break\n",
        "        line = line.strip()\n",
        "        if startsWithDateAndTime(line):\n",
        "            if len(messageBuffer) > 0: \n",
        "                parsedData.append([date, time, author, ' '.join(messageBuffer)]) \n",
        "            messageBuffer.clear()\n",
        "            date, time, author, message = getDataPoint(line) \n",
        "            messageBuffer.append(message)\n",
        "        else:\n",
        "            messageBuffer.append(line)\n",
        "df = pd.DataFrame(parsedData, columns=['Date', 'Time', 'Author', 'Message']) # Initialising a pandas Dataframe.\n",
        "### changing datatype of \"Date\" column.\n",
        "df[\"Date\"] = pd.to_datetime(df[\"Date\"])\n",
        "df[\"Time\"] = pd.to_datetime(df[\"Time\"], format='%H%M', errors='ignore')"
      ],
      "execution_count": 2,
      "outputs": []
    },
    {
      "cell_type": "code",
      "metadata": {
        "id": "SFeH4tzpvSbd"
      },
      "source": [
        "df.drop(df[(df['Author'] == 'Los mensajes y las llamadas están cifrados de extremo a extremo. Nadie fuera de este chat, ni siquiera WhatsApp, puede leerlos ni escucharlos. Toca para obtener más información.')].index, inplace=True)\n",
        "df.drop(df[(df['Author'] == '\\u200eMarcela Duque cambió su número de teléfono. Toca para enviar un mensaje o añadir el nuevo número.')].index, inplace=True)\n",
        "df.drop(df[(df['Author'] == '\\u200eMarcela Duque cambió su número de teléfono. Actualmente te estás comunicando con su nuevo número. Toca para añadir a tus contactos.')].index, inplace=True)\n",
        "df.drop(df[(df['Message'] == '<Multimedia omitido>')].index, inplace=True)"
      ],
      "execution_count": 3,
      "outputs": []
    },
    {
      "cell_type": "code",
      "metadata": {
        "colab": {
          "base_uri": "https://localhost:8080/",
          "height": 204
        },
        "id": "xbwAnwJhyOim",
        "outputId": "15c6b14f-ac7e-4edc-c44b-781771488212"
      },
      "source": [
        "df.head()"
      ],
      "execution_count": 4,
      "outputs": [
        {
          "output_type": "execute_result",
          "data": {
            "text/html": [
              "<div>\n",
              "<style scoped>\n",
              "    .dataframe tbody tr th:only-of-type {\n",
              "        vertical-align: middle;\n",
              "    }\n",
              "\n",
              "    .dataframe tbody tr th {\n",
              "        vertical-align: top;\n",
              "    }\n",
              "\n",
              "    .dataframe thead th {\n",
              "        text-align: right;\n",
              "    }\n",
              "</style>\n",
              "<table border=\"1\" class=\"dataframe\">\n",
              "  <thead>\n",
              "    <tr style=\"text-align: right;\">\n",
              "      <th></th>\n",
              "      <th>Date</th>\n",
              "      <th>Time</th>\n",
              "      <th>Author</th>\n",
              "      <th>Message</th>\n",
              "    </tr>\n",
              "  </thead>\n",
              "  <tbody>\n",
              "    <tr>\n",
              "      <th>0</th>\n",
              "      <td>2019-12-20</td>\n",
              "      <td>21:17</td>\n",
              "      <td>Leticia Olábarri</td>\n",
              "      <td>Adri</td>\n",
              "    </tr>\n",
              "    <tr>\n",
              "      <th>1</th>\n",
              "      <td>2019-12-20</td>\n",
              "      <td>21:17</td>\n",
              "      <td>Leticia Olábarri</td>\n",
              "      <td>¿Vienes?</td>\n",
              "    </tr>\n",
              "    <tr>\n",
              "      <th>2</th>\n",
              "      <td>2019-12-20</td>\n",
              "      <td>22:02</td>\n",
              "      <td>Adri Ávalos</td>\n",
              "      <td>Sí 😬</td>\n",
              "    </tr>\n",
              "    <tr>\n",
              "      <th>3</th>\n",
              "      <td>2019-12-20</td>\n",
              "      <td>22:03</td>\n",
              "      <td>Adri Ávalos</td>\n",
              "      <td>Ya voy</td>\n",
              "    </tr>\n",
              "    <tr>\n",
              "      <th>4</th>\n",
              "      <td>2019-12-20</td>\n",
              "      <td>22:03</td>\n",
              "      <td>Adri Ávalos</td>\n",
              "      <td>Me he liado un pelin</td>\n",
              "    </tr>\n",
              "  </tbody>\n",
              "</table>\n",
              "</div>"
            ],
            "text/plain": [
              "        Date   Time            Author               Message\n",
              "0 2019-12-20  21:17  Leticia Olábarri                  Adri\n",
              "1 2019-12-20  21:17  Leticia Olábarri              ¿Vienes?\n",
              "2 2019-12-20  22:02       Adri Ávalos                  Sí 😬\n",
              "3 2019-12-20  22:03       Adri Ávalos                Ya voy\n",
              "4 2019-12-20  22:03       Adri Ávalos  Me he liado un pelin"
            ]
          },
          "metadata": {},
          "execution_count": 4
        }
      ]
    },
    {
      "cell_type": "code",
      "metadata": {
        "id": "KxJP-uhmyX_d"
      },
      "source": [
        "def transform_names(name):\n",
        "    if name == \"Leticia Olábarri\":\n",
        "        return 1\n",
        "    else:\n",
        "        return 0\n",
        "\n",
        "df[\"Author\"] = df[\"Author\"].apply(transform_names)"
      ],
      "execution_count": 5,
      "outputs": []
    },
    {
      "cell_type": "code",
      "metadata": {
        "colab": {
          "base_uri": "https://localhost:8080/",
          "height": 204
        },
        "id": "xEgVSQJTy03c",
        "outputId": "ab139066-3822-4db6-d69a-861bba0e6aac"
      },
      "source": [
        "df.head()"
      ],
      "execution_count": 6,
      "outputs": [
        {
          "output_type": "execute_result",
          "data": {
            "text/html": [
              "<div>\n",
              "<style scoped>\n",
              "    .dataframe tbody tr th:only-of-type {\n",
              "        vertical-align: middle;\n",
              "    }\n",
              "\n",
              "    .dataframe tbody tr th {\n",
              "        vertical-align: top;\n",
              "    }\n",
              "\n",
              "    .dataframe thead th {\n",
              "        text-align: right;\n",
              "    }\n",
              "</style>\n",
              "<table border=\"1\" class=\"dataframe\">\n",
              "  <thead>\n",
              "    <tr style=\"text-align: right;\">\n",
              "      <th></th>\n",
              "      <th>Date</th>\n",
              "      <th>Time</th>\n",
              "      <th>Author</th>\n",
              "      <th>Message</th>\n",
              "    </tr>\n",
              "  </thead>\n",
              "  <tbody>\n",
              "    <tr>\n",
              "      <th>0</th>\n",
              "      <td>2019-12-20</td>\n",
              "      <td>21:17</td>\n",
              "      <td>1</td>\n",
              "      <td>Adri</td>\n",
              "    </tr>\n",
              "    <tr>\n",
              "      <th>1</th>\n",
              "      <td>2019-12-20</td>\n",
              "      <td>21:17</td>\n",
              "      <td>1</td>\n",
              "      <td>¿Vienes?</td>\n",
              "    </tr>\n",
              "    <tr>\n",
              "      <th>2</th>\n",
              "      <td>2019-12-20</td>\n",
              "      <td>22:02</td>\n",
              "      <td>0</td>\n",
              "      <td>Sí 😬</td>\n",
              "    </tr>\n",
              "    <tr>\n",
              "      <th>3</th>\n",
              "      <td>2019-12-20</td>\n",
              "      <td>22:03</td>\n",
              "      <td>0</td>\n",
              "      <td>Ya voy</td>\n",
              "    </tr>\n",
              "    <tr>\n",
              "      <th>4</th>\n",
              "      <td>2019-12-20</td>\n",
              "      <td>22:03</td>\n",
              "      <td>0</td>\n",
              "      <td>Me he liado un pelin</td>\n",
              "    </tr>\n",
              "  </tbody>\n",
              "</table>\n",
              "</div>"
            ],
            "text/plain": [
              "        Date   Time  Author               Message\n",
              "0 2019-12-20  21:17       1                  Adri\n",
              "1 2019-12-20  21:17       1              ¿Vienes?\n",
              "2 2019-12-20  22:02       0                  Sí 😬\n",
              "3 2019-12-20  22:03       0                Ya voy\n",
              "4 2019-12-20  22:03       0  Me he liado un pelin"
            ]
          },
          "metadata": {},
          "execution_count": 6
        }
      ]
    },
    {
      "cell_type": "code",
      "metadata": {
        "id": "om9Lar_ey2lS"
      },
      "source": [
        "X_train, X_test, y_train, y_test = train_test_split(df[\"Message\"], df[\"Author\"], test_size=0.2, random_state=42)"
      ],
      "execution_count": 7,
      "outputs": []
    },
    {
      "cell_type": "code",
      "metadata": {
        "colab": {
          "base_uri": "https://localhost:8080/"
        },
        "id": "OLLpsfZI44hS",
        "outputId": "4cdd2c59-d710-4fb5-972f-7cd6e02662a2"
      },
      "source": [
        "labels = y_train.unique()\n",
        "labels"
      ],
      "execution_count": 8,
      "outputs": [
        {
          "output_type": "execute_result",
          "data": {
            "text/plain": [
              "array([0, 1])"
            ]
          },
          "metadata": {},
          "execution_count": 8
        }
      ]
    },
    {
      "cell_type": "code",
      "metadata": {
        "id": "8tClgefNy5W0"
      },
      "source": [
        "max_features = 10000\n",
        "sequence_length = 1000\n",
        "\n",
        "vectorize_layer = layers.TextVectorization(\n",
        "    max_tokens=max_features,\n",
        "    output_mode='int',\n",
        "    output_sequence_length=sequence_length)"
      ],
      "execution_count": 9,
      "outputs": []
    },
    {
      "cell_type": "code",
      "metadata": {
        "id": "tr5OmtG0y7ND"
      },
      "source": [
        "vectorize_layer.adapt(X_train)"
      ],
      "execution_count": 10,
      "outputs": []
    },
    {
      "cell_type": "code",
      "metadata": {
        "id": "Dpbz61rbzjN0"
      },
      "source": [
        "train_ds = vectorize_layer(X_train)\n",
        "test_ds = vectorize_layer(X_test)"
      ],
      "execution_count": 11,
      "outputs": []
    },
    {
      "cell_type": "code",
      "metadata": {
        "colab": {
          "base_uri": "https://localhost:8080/"
        },
        "id": "gCevaDsg1CV9",
        "outputId": "8ec3f081-1b1b-4e9e-ac70-16d0e397a4e9"
      },
      "source": [
        "embedding_dim = 16\n",
        "\n",
        "model = tf.keras.Sequential([\n",
        "  layers.Embedding(max_features + 1, embedding_dim),\n",
        "  layers.Dropout(0.2),\n",
        "  layers.GlobalAveragePooling1D(),\n",
        "  layers.Dropout(0.2),\n",
        "  layers.Dense(1)])\n",
        "\n",
        "model.summary()"
      ],
      "execution_count": 12,
      "outputs": [
        {
          "output_type": "stream",
          "name": "stdout",
          "text": [
            "Model: \"sequential\"\n",
            "_________________________________________________________________\n",
            "Layer (type)                 Output Shape              Param #   \n",
            "=================================================================\n",
            "embedding (Embedding)        (None, None, 16)          160016    \n",
            "_________________________________________________________________\n",
            "dropout (Dropout)            (None, None, 16)          0         \n",
            "_________________________________________________________________\n",
            "global_average_pooling1d (Gl (None, 16)                0         \n",
            "_________________________________________________________________\n",
            "dropout_1 (Dropout)          (None, 16)                0         \n",
            "_________________________________________________________________\n",
            "dense (Dense)                (None, 1)                 17        \n",
            "=================================================================\n",
            "Total params: 160,033\n",
            "Trainable params: 160,033\n",
            "Non-trainable params: 0\n",
            "_________________________________________________________________\n"
          ]
        }
      ]
    },
    {
      "cell_type": "code",
      "metadata": {
        "id": "d-IlyG3D1OOL"
      },
      "source": [
        "model.compile(loss=losses.BinaryCrossentropy(from_logits=True),\n",
        "              optimizer='adam',\n",
        "              metrics=tf.metrics.BinaryAccuracy(threshold=0.0))"
      ],
      "execution_count": 13,
      "outputs": []
    },
    {
      "cell_type": "code",
      "metadata": {
        "colab": {
          "base_uri": "https://localhost:8080/"
        },
        "id": "mAhKERUx2oLx",
        "outputId": "840f61a9-5bf6-4656-d6fb-e97ff8687182"
      },
      "source": [
        "print(len(train_ds))\n",
        "print(len(test_ds))"
      ],
      "execution_count": 14,
      "outputs": [
        {
          "output_type": "stream",
          "name": "stdout",
          "text": [
            "44005\n",
            "11002\n"
          ]
        }
      ]
    },
    {
      "cell_type": "code",
      "metadata": {
        "colab": {
          "base_uri": "https://localhost:8080/"
        },
        "id": "9b_phOZI2CWL",
        "outputId": "c3e6f56a-0f1b-4bdf-f56f-6bb7029b6b1d"
      },
      "source": [
        "epochs = 20\n",
        "history = model.fit(\n",
        "    train_ds,y_train,\n",
        "    validation_data= (test_ds, y_test),\n",
        "    epochs=epochs)"
      ],
      "execution_count": 15,
      "outputs": [
        {
          "output_type": "stream",
          "name": "stdout",
          "text": [
            "Epoch 1/20\n",
            "1376/1376 [==============================] - 18s 12ms/step - loss: 0.6929 - binary_accuracy: 0.5083 - val_loss: 0.6924 - val_binary_accuracy: 0.5075\n",
            "Epoch 2/20\n",
            "1376/1376 [==============================] - 16s 12ms/step - loss: 0.6920 - binary_accuracy: 0.5218 - val_loss: 0.6912 - val_binary_accuracy: 0.6441\n",
            "Epoch 3/20\n",
            "1376/1376 [==============================] - 16s 12ms/step - loss: 0.6899 - binary_accuracy: 0.5500 - val_loss: 0.6881 - val_binary_accuracy: 0.6312\n",
            "Epoch 4/20\n",
            "1376/1376 [==============================] - 17s 12ms/step - loss: 0.6856 - binary_accuracy: 0.5687 - val_loss: 0.6824 - val_binary_accuracy: 0.5913\n",
            "Epoch 5/20\n",
            "1376/1376 [==============================] - 16s 12ms/step - loss: 0.6785 - binary_accuracy: 0.6052 - val_loss: 0.6747 - val_binary_accuracy: 0.5915\n",
            "Epoch 6/20\n",
            "1376/1376 [==============================] - 16s 12ms/step - loss: 0.6698 - binary_accuracy: 0.6223 - val_loss: 0.6649 - val_binary_accuracy: 0.6399\n",
            "Epoch 7/20\n",
            "1376/1376 [==============================] - 16s 12ms/step - loss: 0.6597 - binary_accuracy: 0.6362 - val_loss: 0.6544 - val_binary_accuracy: 0.6308\n",
            "Epoch 8/20\n",
            "1376/1376 [==============================] - 17s 12ms/step - loss: 0.6483 - binary_accuracy: 0.6506 - val_loss: 0.6435 - val_binary_accuracy: 0.6634\n",
            "Epoch 9/20\n",
            "1376/1376 [==============================] - 16s 12ms/step - loss: 0.6366 - binary_accuracy: 0.6616 - val_loss: 0.6346 - val_binary_accuracy: 0.6339\n",
            "Epoch 10/20\n",
            "1376/1376 [==============================] - 16s 12ms/step - loss: 0.6243 - binary_accuracy: 0.6759 - val_loss: 0.6224 - val_binary_accuracy: 0.6610\n",
            "Epoch 11/20\n",
            "1376/1376 [==============================] - 16s 12ms/step - loss: 0.6129 - binary_accuracy: 0.6854 - val_loss: 0.6124 - val_binary_accuracy: 0.6759\n",
            "Epoch 12/20\n",
            "1376/1376 [==============================] - 17s 12ms/step - loss: 0.6018 - binary_accuracy: 0.6956 - val_loss: 0.6190 - val_binary_accuracy: 0.6277\n",
            "Epoch 13/20\n",
            "1376/1376 [==============================] - 16s 12ms/step - loss: 0.5902 - binary_accuracy: 0.7081 - val_loss: 0.5978 - val_binary_accuracy: 0.6732\n",
            "Epoch 14/20\n",
            "1376/1376 [==============================] - 16s 12ms/step - loss: 0.5804 - binary_accuracy: 0.7144 - val_loss: 0.5855 - val_binary_accuracy: 0.7051\n",
            "Epoch 15/20\n",
            "1376/1376 [==============================] - 17s 12ms/step - loss: 0.5709 - binary_accuracy: 0.7210 - val_loss: 0.5834 - val_binary_accuracy: 0.6901\n",
            "Epoch 16/20\n",
            "1376/1376 [==============================] - 17s 12ms/step - loss: 0.5616 - binary_accuracy: 0.7285 - val_loss: 0.5757 - val_binary_accuracy: 0.6990\n",
            "Epoch 17/20\n",
            "1376/1376 [==============================] - 16s 12ms/step - loss: 0.5530 - binary_accuracy: 0.7325 - val_loss: 0.5687 - val_binary_accuracy: 0.7144\n",
            "Epoch 18/20\n",
            "1376/1376 [==============================] - 17s 12ms/step - loss: 0.5454 - binary_accuracy: 0.7380 - val_loss: 0.5607 - val_binary_accuracy: 0.7140\n",
            "Epoch 19/20\n",
            "1376/1376 [==============================] - 17s 12ms/step - loss: 0.5374 - binary_accuracy: 0.7428 - val_loss: 0.5547 - val_binary_accuracy: 0.7186\n",
            "Epoch 20/20\n",
            "1376/1376 [==============================] - 17s 12ms/step - loss: 0.5311 - binary_accuracy: 0.7446 - val_loss: 0.5508 - val_binary_accuracy: 0.7266\n"
          ]
        }
      ]
    },
    {
      "cell_type": "code",
      "metadata": {
        "id": "a8-ruIM15-ZO",
        "outputId": "f63c5424-a84a-49f3-9762-e08f2645ded2",
        "colab": {
          "base_uri": "https://localhost:8080/"
        }
      },
      "source": [
        "loss, accuracy = model.evaluate(test_ds)\n",
        "\n",
        "print(\"Loss: \", loss)\n",
        "print(\"Accuracy: \", accuracy)"
      ],
      "execution_count": 16,
      "outputs": [
        {
          "output_type": "stream",
          "name": "stdout",
          "text": [
            "344/344 [==============================] - 1s 2ms/step - loss: 0.0000e+00 - binary_accuracy: 0.0000e+00\n",
            "Loss:  0.0\n",
            "Accuracy:  0.0\n"
          ]
        }
      ]
    },
    {
      "cell_type": "code",
      "metadata": {
        "id": "_5G2L1-IxHGC",
        "outputId": "aa0683a1-5ea3-4ad4-aada-430fddc50a45",
        "colab": {
          "base_uri": "https://localhost:8080/",
          "height": 295
        }
      },
      "source": [
        "history_dict = history.history\n",
        "history_dict.keys()\n",
        "\n",
        "acc = history_dict['binary_accuracy']\n",
        "val_acc = history_dict['val_binary_accuracy']\n",
        "loss = history_dict['loss']\n",
        "val_loss = history_dict['val_loss']\n",
        "\n",
        "epochs = range(1, len(acc) + 1)\n",
        "\n",
        "# \"bo\" is for \"blue dot\"\n",
        "plt.plot(epochs, loss, 'bo', label='Training loss')\n",
        "# b is for \"solid blue line\"\n",
        "plt.plot(epochs, val_loss, 'b', label='Validation loss')\n",
        "plt.title('Training and validation loss')\n",
        "plt.xlabel('Epochs')\n",
        "plt.ylabel('Loss')\n",
        "plt.legend()\n",
        "\n",
        "plt.show()"
      ],
      "execution_count": 18,
      "outputs": [
        {
          "output_type": "display_data",
          "data": {
            "image/png": "[encoded data removed]",
            "text/plain": [
              "<Figure size 432x288 with 1 Axes>"
            ]
          },
          "metadata": {
            "needs_background": "light"
          }
        }
      ]
    },
    {
      "cell_type": "code",
      "metadata": {
        "id": "z5vg8jL0xLDA",
        "outputId": "6e198916-2a51-4a8c-9a83-557652d3784a",
        "colab": {
          "base_uri": "https://localhost:8080/",
          "height": 295
        }
      },
      "source": [
        "plt.plot(epochs, acc, 'bo', label='Training acc')\n",
        "plt.plot(epochs, val_acc, 'b', label='Validation acc')\n",
        "plt.title('Training and validation accuracy')\n",
        "plt.xlabel('Epochs')\n",
        "plt.ylabel('Accuracy')\n",
        "plt.legend(loc='lower right')\n",
        "\n",
        "plt.show()"
      ],
      "execution_count": 19,
      "outputs": [
        {
          "output_type": "display_data",
          "data": {
            "image/png": "[encoded data removed]",
            "text/plain": [
              "<Figure size 432x288 with 1 Axes>"
            ]
          },
          "metadata": {
            "needs_background": "light"
          }
        }
      ]
    },
    {
      "cell_type": "code",
      "metadata": {
        "id": "SyAI9hf4xUmE"
      },
      "source": [
        ""
      ],
      "execution_count": null,
      "outputs": []
    }
  ]
}