{
  "nbformat": 4,
  "nbformat_minor": 0,
  "metadata": {
    "colab": {
      "name": "Basic_classification.ipynb",
      "provenance": [],
      "mount_file_id": "https://github.com/leti-olabarri/premier-fantasy/blob/feature%2Fload_data/models/Basic_classification.ipynb",
      "authorship_tag": "ABX9TyPq39VOomah4moZhBFkckKJ",
      "include_colab_link": true
    },
    "kernelspec": {
      "name": "python3",
      "display_name": "Python 3"
    },
    "language_info": {
      "name": "python"
    }
  },
  "cells": [
    {
      "cell_type": "markdown",
      "metadata": {
        "id": "view-in-github",
        "colab_type": "text"
      },
      "source": [
        "<a href=\"https://colab.research.google.com/github/leti-olabarri/drunk-chatbot/blob/develop/models/Basic_classification.ipynb\" target=\"_parent\"><img src=\"https://colab.research.google.com/assets/colab-badge.svg\" alt=\"Open In Colab\"/></a>"
      ]
    },
    {
      "cell_type": "code",
      "metadata": {
        "id": "ta1JdrhZrx9e"
      },
      "source": [
        "import tensorflow as tf\n",
        "\n",
        "from tensorflow.keras import layers\n",
        "from tensorflow.keras import losses\n",
        "from tensorflow.keras import preprocessing\n",
        "\n",
        "import pandas as pd\n",
        "import matplotlib.pyplot as plt\n",
        "import re\n",
        "import numpy as np\n",
        "\n",
        "from sklearn.model_selection import train_test_split"
      ],
      "execution_count": 1,
      "outputs": []
    },
    {
      "cell_type": "code",
      "metadata": {
        "id": "Xz_G_Zm3uImD"
      },
      "source": [
        "def startsWithDateAndTime(s):\n",
        "    pattern = '^([0-9]+)(/)([0-9]+)(/)([0-9][0-9]) ([0-9]+):([0-9][0-9]) -'\n",
        "    result = re.match(pattern, s)\n",
        "    if result:\n",
        "        return True\n",
        "    return False\n",
        "\n",
        "def getDataPoint(line):   \n",
        "    splitLine = line.split(' - ')\n",
        "    dateTime = splitLine[0]\n",
        "    date, time = dateTime.split(' ') \n",
        "    message = ' '.join(splitLine[1:])\n",
        "    splitMessage = message.split(': ')\n",
        "    author = splitMessage[0]\n",
        "    message = ' '.join(splitMessage[1:])\n",
        "    return date, time, author, message\n",
        "\n",
        "parsedData = [] # List to keep track of data so it can be used by a Pandas dataframe\n",
        "### Uploading exported chat file\n",
        "conversationPath = '../content/drive/MyDrive/data/all.txt' # chat file\n",
        "with open(conversationPath, encoding=\"utf-8\") as fp:\n",
        "    ### Skipping first line of the file because contains information related to something about end-to-end encryption\n",
        "    fp.readline() \n",
        "    messageBuffer = [] \n",
        "    date, time, author = None, None, None\n",
        "    while True:\n",
        "        line = fp.readline() \n",
        "        if not line: \n",
        "            break\n",
        "        line = line.strip()\n",
        "        if startsWithDateAndTime(line):\n",
        "            if len(messageBuffer) > 0: \n",
        "                parsedData.append([date, time, author, ' '.join(messageBuffer)]) \n",
        "            messageBuffer.clear()\n",
        "            date, time, author, message = getDataPoint(line) \n",
        "            messageBuffer.append(message)\n",
        "        else:\n",
        "            messageBuffer.append(line)\n",
        "df = pd.DataFrame(parsedData, columns=['Date', 'Time', 'Author', 'Message']) # Initialising a pandas Dataframe.\n",
        "### changing datatype of \"Date\" column.\n",
        "df[\"Date\"] = pd.to_datetime(df[\"Date\"])\n",
        "df[\"Time\"] = pd.to_datetime(df[\"Time\"], format='%H%M', errors='ignore')"
      ],
      "execution_count": 2,
      "outputs": []
    },
    {
      "cell_type": "code",
      "metadata": {
        "id": "SFeH4tzpvSbd"
      },
      "source": [
        "df.drop(df[(df['Author'] == 'Los mensajes y las llamadas están cifrados de extremo a extremo. Nadie fuera de este chat, ni siquiera WhatsApp, puede leerlos ni escucharlos. Toca para obtener más información.')].index, inplace=True)\n",
        "df.drop(df[(df['Author'] == '\\u200eMarcela Duque cambió su número de teléfono. Toca para enviar un mensaje o añadir el nuevo número.')].index, inplace=True)\n",
        "df.drop(df[(df['Author'] == '\\u200eMarcela Duque cambió su número de teléfono. Actualmente te estás comunicando con su nuevo número. Toca para añadir a tus contactos.')].index, inplace=True)\n",
        "df.drop(df[(df['Message'] == '<Multimedia omitido>')].index, inplace=True)"
      ],
      "execution_count": 3,
      "outputs": []
    },
    {
      "cell_type": "code",
      "metadata": {
        "colab": {
          "base_uri": "https://localhost:8080/",
          "height": 204
        },
        "id": "xbwAnwJhyOim",
        "outputId": "e45cd7f5-9eb1-47be-9039-a5028ab21004"
      },
      "source": [
        "df.head()"
      ],
      "execution_count": 4,
      "outputs": [
        {
          "output_type": "execute_result",
          "data": {
            "text/html": [
              "<div>\n",
              "<style scoped>\n",
              "    .dataframe tbody tr th:only-of-type {\n",
              "        vertical-align: middle;\n",
              "    }\n",
              "\n",
              "    .dataframe tbody tr th {\n",
              "        vertical-align: top;\n",
              "    }\n",
              "\n",
              "    .dataframe thead th {\n",
              "        text-align: right;\n",
              "    }\n",
              "</style>\n",
              "<table border=\"1\" class=\"dataframe\">\n",
              "  <thead>\n",
              "    <tr style=\"text-align: right;\">\n",
              "      <th></th>\n",
              "      <th>Date</th>\n",
              "      <th>Time</th>\n",
              "      <th>Author</th>\n",
              "      <th>Message</th>\n",
              "    </tr>\n",
              "  </thead>\n",
              "  <tbody>\n",
              "    <tr>\n",
              "      <th>0</th>\n",
              "      <td>2019-12-20</td>\n",
              "      <td>21:17</td>\n",
              "      <td>Leticia Olábarri</td>\n",
              "      <td>Adri</td>\n",
              "    </tr>\n",
              "    <tr>\n",
              "      <th>1</th>\n",
              "      <td>2019-12-20</td>\n",
              "      <td>21:17</td>\n",
              "      <td>Leticia Olábarri</td>\n",
              "      <td>¿Vienes?</td>\n",
              "    </tr>\n",
              "    <tr>\n",
              "      <th>2</th>\n",
              "      <td>2019-12-20</td>\n",
              "      <td>22:02</td>\n",
              "      <td>Adri Ávalos</td>\n",
              "      <td>Sí 😬</td>\n",
              "    </tr>\n",
              "    <tr>\n",
              "      <th>3</th>\n",
              "      <td>2019-12-20</td>\n",
              "      <td>22:03</td>\n",
              "      <td>Adri Ávalos</td>\n",
              "      <td>Ya voy</td>\n",
              "    </tr>\n",
              "    <tr>\n",
              "      <th>4</th>\n",
              "      <td>2019-12-20</td>\n",
              "      <td>22:03</td>\n",
              "      <td>Adri Ávalos</td>\n",
              "      <td>Me he liado un pelin</td>\n",
              "    </tr>\n",
              "  </tbody>\n",
              "</table>\n",
              "</div>"
            ],
            "text/plain": [
              "        Date   Time            Author               Message\n",
              "0 2019-12-20  21:17  Leticia Olábarri                  Adri\n",
              "1 2019-12-20  21:17  Leticia Olábarri              ¿Vienes?\n",
              "2 2019-12-20  22:02       Adri Ávalos                  Sí 😬\n",
              "3 2019-12-20  22:03       Adri Ávalos                Ya voy\n",
              "4 2019-12-20  22:03       Adri Ávalos  Me he liado un pelin"
            ]
          },
          "metadata": {},
          "execution_count": 4
        }
      ]
    },
    {
      "cell_type": "code",
      "metadata": {
        "id": "KxJP-uhmyX_d"
      },
      "source": [
        "def transform_names(name):\n",
        "    if name == \"Leticia Olábarri\":\n",
        "        return 1\n",
        "    else:\n",
        "        return 0\n",
        "\n",
        "df[\"Author\"] = df[\"Author\"].apply(transform_names)"
      ],
      "execution_count": 5,
      "outputs": []
    },
    {
      "cell_type": "code",
      "metadata": {
        "colab": {
          "base_uri": "https://localhost:8080/",
          "height": 204
        },
        "id": "xEgVSQJTy03c",
        "outputId": "deee4e0c-f083-4870-ab64-ce7af4808d8c"
      },
      "source": [
        "df.head()"
      ],
      "execution_count": 6,
      "outputs": [
        {
          "output_type": "execute_result",
          "data": {
            "text/html": [
              "<div>\n",
              "<style scoped>\n",
              "    .dataframe tbody tr th:only-of-type {\n",
              "        vertical-align: middle;\n",
              "    }\n",
              "\n",
              "    .dataframe tbody tr th {\n",
              "        vertical-align: top;\n",
              "    }\n",
              "\n",
              "    .dataframe thead th {\n",
              "        text-align: right;\n",
              "    }\n",
              "</style>\n",
              "<table border=\"1\" class=\"dataframe\">\n",
              "  <thead>\n",
              "    <tr style=\"text-align: right;\">\n",
              "      <th></th>\n",
              "      <th>Date</th>\n",
              "      <th>Time</th>\n",
              "      <th>Author</th>\n",
              "      <th>Message</th>\n",
              "    </tr>\n",
              "  </thead>\n",
              "  <tbody>\n",
              "    <tr>\n",
              "      <th>0</th>\n",
              "      <td>2019-12-20</td>\n",
              "      <td>21:17</td>\n",
              "      <td>1</td>\n",
              "      <td>Adri</td>\n",
              "    </tr>\n",
              "    <tr>\n",
              "      <th>1</th>\n",
              "      <td>2019-12-20</td>\n",
              "      <td>21:17</td>\n",
              "      <td>1</td>\n",
              "      <td>¿Vienes?</td>\n",
              "    </tr>\n",
              "    <tr>\n",
              "      <th>2</th>\n",
              "      <td>2019-12-20</td>\n",
              "      <td>22:02</td>\n",
              "      <td>0</td>\n",
              "      <td>Sí 😬</td>\n",
              "    </tr>\n",
              "    <tr>\n",
              "      <th>3</th>\n",
              "      <td>2019-12-20</td>\n",
              "      <td>22:03</td>\n",
              "      <td>0</td>\n",
              "      <td>Ya voy</td>\n",
              "    </tr>\n",
              "    <tr>\n",
              "      <th>4</th>\n",
              "      <td>2019-12-20</td>\n",
              "      <td>22:03</td>\n",
              "      <td>0</td>\n",
              "      <td>Me he liado un pelin</td>\n",
              "    </tr>\n",
              "  </tbody>\n",
              "</table>\n",
              "</div>"
            ],
            "text/plain": [
              "        Date   Time  Author               Message\n",
              "0 2019-12-20  21:17       1                  Adri\n",
              "1 2019-12-20  21:17       1              ¿Vienes?\n",
              "2 2019-12-20  22:02       0                  Sí 😬\n",
              "3 2019-12-20  22:03       0                Ya voy\n",
              "4 2019-12-20  22:03       0  Me he liado un pelin"
            ]
          },
          "metadata": {},
          "execution_count": 6
        }
      ]
    },
    {
      "cell_type": "code",
      "metadata": {
        "id": "om9Lar_ey2lS"
      },
      "source": [
        "X_train, X_test, y_train, y_test = train_test_split(df[\"Message\"], df[\"Author\"], test_size=0.2, random_state=42)"
      ],
      "execution_count": 7,
      "outputs": []
    },
    {
      "cell_type": "code",
      "metadata": {
        "colab": {
          "base_uri": "https://localhost:8080/"
        },
        "id": "OLLpsfZI44hS",
        "outputId": "bc230665-44f0-4610-c7c9-6a1661f034de"
      },
      "source": [
        "labels = y_train.unique()\n",
        "labels"
      ],
      "execution_count": 8,
      "outputs": [
        {
          "output_type": "execute_result",
          "data": {
            "text/plain": [
              "array([0, 1])"
            ]
          },
          "metadata": {},
          "execution_count": 8
        }
      ]
    },
    {
      "cell_type": "code",
      "metadata": {
        "id": "8tClgefNy5W0"
      },
      "source": [
        "max_features = 10000\n",
        "sequence_length = 1000\n",
        "\n",
        "vectorize_layer = layers.TextVectorization(\n",
        "    max_tokens=max_features,\n",
        "    output_mode='int',\n",
        "    output_sequence_length=sequence_length)"
      ],
      "execution_count": 9,
      "outputs": []
    },
    {
      "cell_type": "code",
      "metadata": {
        "id": "tr5OmtG0y7ND"
      },
      "source": [
        "vectorize_layer.adapt(X_train)"
      ],
      "execution_count": 11,
      "outputs": []
    },
    {
      "cell_type": "code",
      "metadata": {
        "id": "Dpbz61rbzjN0"
      },
      "source": [
        "train_ds = vectorize_layer(X_train)\n",
        "test_ds = vectorize_layer(X_test)"
      ],
      "execution_count": 12,
      "outputs": []
    },
    {
      "cell_type": "code",
      "metadata": {
        "colab": {
          "base_uri": "https://localhost:8080/"
        },
        "id": "gCevaDsg1CV9",
        "outputId": "83f8d6a3-1e18-4e45-d462-a54b20b3dc03"
      },
      "source": [
        "embedding_dim = 16\n",
        "\n",
        "model = tf.keras.Sequential([\n",
        "  layers.Embedding(max_features + 1, embedding_dim),\n",
        "  layers.Dropout(0.2),\n",
        "  layers.GlobalAveragePooling1D(),\n",
        "  layers.Dropout(0.2),\n",
        "  layers.Dense(1)])\n",
        "\n",
        "model.summary()"
      ],
      "execution_count": 13,
      "outputs": [
        {
          "output_type": "stream",
          "name": "stdout",
          "text": [
            "Model: \"sequential\"\n",
            "_________________________________________________________________\n",
            "Layer (type)                 Output Shape              Param #   \n",
            "=================================================================\n",
            "embedding (Embedding)        (None, None, 16)          160016    \n",
            "_________________________________________________________________\n",
            "dropout (Dropout)            (None, None, 16)          0         \n",
            "_________________________________________________________________\n",
            "global_average_pooling1d (Gl (None, 16)                0         \n",
            "_________________________________________________________________\n",
            "dropout_1 (Dropout)          (None, 16)                0         \n",
            "_________________________________________________________________\n",
            "dense (Dense)                (None, 1)                 17        \n",
            "=================================================================\n",
            "Total params: 160,033\n",
            "Trainable params: 160,033\n",
            "Non-trainable params: 0\n",
            "_________________________________________________________________\n"
          ]
        }
      ]
    },
    {
      "cell_type": "code",
      "metadata": {
        "id": "d-IlyG3D1OOL"
      },
      "source": [
        "model.compile(loss=losses.BinaryCrossentropy(from_logits=True),\n",
        "              optimizer='adam',\n",
        "              metrics=tf.metrics.BinaryAccuracy(threshold=0.0))"
      ],
      "execution_count": 14,
      "outputs": []
    },
    {
      "cell_type": "code",
      "metadata": {
        "colab": {
          "base_uri": "https://localhost:8080/"
        },
        "id": "mAhKERUx2oLx",
        "outputId": "b189bbda-9dd3-4191-dd2c-ba4c7d573e87"
      },
      "source": [
        "print(len(train_ds))\n",
        "print(len(test_ds))"
      ],
      "execution_count": 15,
      "outputs": [
        {
          "output_type": "stream",
          "name": "stdout",
          "text": [
            "44005\n",
            "11002\n"
          ]
        }
      ]
    },
    {
      "cell_type": "code",
      "metadata": {
        "colab": {
          "base_uri": "https://localhost:8080/"
        },
        "id": "9b_phOZI2CWL",
        "outputId": "f9a9d60f-a63d-4e18-e88a-6755f598114d"
      },
      "source": [
        "epochs = 20\n",
        "history = model.fit(\n",
        "    train_ds,y_train,\n",
        "    validation_data= (test_ds, y_test),\n",
        "    epochs=epochs)"
      ],
      "execution_count": 16,
      "outputs": [
        {
          "output_type": "stream",
          "name": "stdout",
          "text": [
            "Epoch 1/20\n",
            "1376/1376 [==============================] - 21s 14ms/step - loss: 0.6929 - binary_accuracy: 0.5087 - val_loss: 0.6924 - val_binary_accuracy: 0.6239\n",
            "Epoch 2/20\n",
            "1376/1376 [==============================] - 19s 14ms/step - loss: 0.6917 - binary_accuracy: 0.5285 - val_loss: 0.6907 - val_binary_accuracy: 0.5215\n",
            "Epoch 3/20\n",
            "1376/1376 [==============================] - 19s 14ms/step - loss: 0.6894 - binary_accuracy: 0.5529 - val_loss: 0.6904 - val_binary_accuracy: 0.5088\n",
            "Epoch 4/20\n",
            "1376/1376 [==============================] - 19s 14ms/step - loss: 0.6853 - binary_accuracy: 0.5792 - val_loss: 0.6832 - val_binary_accuracy: 0.5911\n",
            "Epoch 5/20\n",
            "1376/1376 [==============================] - 19s 14ms/step - loss: 0.6791 - binary_accuracy: 0.6035 - val_loss: 0.6747 - val_binary_accuracy: 0.6283\n",
            "Epoch 6/20\n",
            "1376/1376 [==============================] - 19s 14ms/step - loss: 0.6697 - binary_accuracy: 0.6229 - val_loss: 0.6662 - val_binary_accuracy: 0.6694\n",
            "Epoch 7/20\n",
            "1376/1376 [==============================] - 20s 15ms/step - loss: 0.6595 - binary_accuracy: 0.6399 - val_loss: 0.6549 - val_binary_accuracy: 0.6176\n",
            "Epoch 8/20\n",
            "1376/1376 [==============================] - 20s 14ms/step - loss: 0.6480 - binary_accuracy: 0.6523 - val_loss: 0.6447 - val_binary_accuracy: 0.6791\n",
            "Epoch 9/20\n",
            "1376/1376 [==============================] - 19s 14ms/step - loss: 0.6363 - binary_accuracy: 0.6639 - val_loss: 0.6365 - val_binary_accuracy: 0.6266\n",
            "Epoch 10/20\n",
            "1376/1376 [==============================] - 20s 14ms/step - loss: 0.6247 - binary_accuracy: 0.6736 - val_loss: 0.6221 - val_binary_accuracy: 0.6877\n",
            "Epoch 11/20\n",
            "1376/1376 [==============================] - 20s 14ms/step - loss: 0.6133 - binary_accuracy: 0.6858 - val_loss: 0.6119 - val_binary_accuracy: 0.6926\n",
            "Epoch 12/20\n",
            "1376/1376 [==============================] - 20s 14ms/step - loss: 0.6015 - binary_accuracy: 0.6974 - val_loss: 0.6023 - val_binary_accuracy: 0.6945\n",
            "Epoch 13/20\n",
            "1376/1376 [==============================] - 19s 14ms/step - loss: 0.5908 - binary_accuracy: 0.7068 - val_loss: 0.5947 - val_binary_accuracy: 0.6934\n",
            "Epoch 14/20\n",
            "1376/1376 [==============================] - 20s 14ms/step - loss: 0.5815 - binary_accuracy: 0.7130 - val_loss: 0.5858 - val_binary_accuracy: 0.7058\n",
            "Epoch 15/20\n",
            "1376/1376 [==============================] - 20s 14ms/step - loss: 0.5714 - binary_accuracy: 0.7209 - val_loss: 0.5792 - val_binary_accuracy: 0.7029\n",
            "Epoch 16/20\n",
            "1376/1376 [==============================] - 20s 14ms/step - loss: 0.5620 - binary_accuracy: 0.7292 - val_loss: 0.5800 - val_binary_accuracy: 0.6894\n",
            "Epoch 17/20\n",
            "1376/1376 [==============================] - 20s 14ms/step - loss: 0.5531 - binary_accuracy: 0.7338 - val_loss: 0.5681 - val_binary_accuracy: 0.7159\n",
            "Epoch 18/20\n",
            "1376/1376 [==============================] - 20s 15ms/step - loss: 0.5453 - binary_accuracy: 0.7396 - val_loss: 0.5602 - val_binary_accuracy: 0.7149\n",
            "Epoch 19/20\n",
            "1376/1376 [==============================] - 20s 15ms/step - loss: 0.5372 - binary_accuracy: 0.7419 - val_loss: 0.5581 - val_binary_accuracy: 0.7131\n",
            "Epoch 20/20\n",
            "1376/1376 [==============================] - 20s 15ms/step - loss: 0.5298 - binary_accuracy: 0.7473 - val_loss: 0.5537 - val_binary_accuracy: 0.7152\n"
          ]
        }
      ]
    },
    {
      "cell_type": "code",
      "metadata": {
        "colab": {
          "base_uri": "https://localhost:8080/",
          "height": 295
        },
        "id": "_5G2L1-IxHGC",
        "outputId": "ea68db49-6ff6-4c9e-e1ca-a59aeb8de939"
      },
      "source": [
        "history_dict = history.history\n",
        "history_dict.keys()\n",
        "\n",
        "acc = history_dict['binary_accuracy']\n",
        "val_acc = history_dict['val_binary_accuracy']\n",
        "loss = history_dict['loss']\n",
        "val_loss = history_dict['val_loss']\n",
        "\n",
        "epochs = range(1, len(acc) + 1)\n",
        "\n",
        "# \"bo\" is for \"blue dot\"\n",
        "plt.plot(epochs, loss, 'bo', label='Training loss')\n",
        "# b is for \"solid blue line\"\n",
        "plt.plot(epochs, val_loss, 'b', label='Validation loss')\n",
        "plt.title('Training and validation loss')\n",
        "plt.xlabel('Epochs')\n",
        "plt.ylabel('Loss')\n",
        "plt.legend()\n",
        "\n",
        "plt.show()"
      ],
      "execution_count": 17,
      "outputs": [
        {
          "output_type": "display_data",
          "data": {
            "image/png": "[encoded data removed]",
            "text/plain": [
              "<Figure size 432x288 with 1 Axes>"
            ]
          },
          "metadata": {
            "needs_background": "light"
          }
        }
      ]
    },
    {
      "cell_type": "code",
      "metadata": {
        "colab": {
          "base_uri": "https://localhost:8080/",
          "height": 295
        },
        "id": "z5vg8jL0xLDA",
        "outputId": "0a47ab54-52c9-4e25-e86b-8ed4d4e45fa7"
      },
      "source": [
        "plt.plot(epochs, acc, 'bo', label='Training acc')\n",
        "plt.plot(epochs, val_acc, 'b', label='Validation acc')\n",
        "plt.title('Training and validation accuracy')\n",
        "plt.xlabel('Epochs')\n",
        "plt.ylabel('Accuracy')\n",
        "plt.legend(loc='lower right')\n",
        "\n",
        "plt.show()"
      ],
      "execution_count": 18,
      "outputs": [
        {
          "output_type": "display_data",
          "data": {
            "image/png": "[encoded data removed]",
            "text/plain": [
              "<Figure size 432x288 with 1 Axes>"
            ]
          },
          "metadata": {
            "needs_background": "light"
          }
        }
      ]
    },
    {
      "cell_type": "code",
      "metadata": {
        "id": "SyAI9hf4xUmE"
      },
      "source": [
        "model.save(\"basic_classification.h5\")"
      ],
      "execution_count": 19,
      "outputs": []
    },
    {
      "cell_type": "code",
      "metadata": {
        "id": "XmzLCbw30_RY"
      },
      "source": [
        "export_model = tf.keras.Sequential([\n",
        "  vectorize_layer,\n",
        "  model,\n",
        "  layers.Activation('sigmoid')\n",
        "])\n",
        "\n",
        "export_model.compile(\n",
        "    loss=losses.BinaryCrossentropy(from_logits=False), optimizer=\"adam\", metrics=['accuracy']\n",
        ")"
      ],
      "execution_count": 20,
      "outputs": []
    },
    {
      "cell_type": "code",
      "metadata": {
        "id": "mrWPzGwD1WrQ",
        "outputId": "5c98b9da-0e16-49f5-f37b-602faa2849c2",
        "colab": {
          "base_uri": "https://localhost:8080/"
        }
      },
      "source": [
        "examples = [\n",
        "  \"The movie was great!\",\n",
        "  \"The movie was okay.\",\n",
        "  \"¿Cómo te encuentras hoy?\"\n",
        "]\n",
        "\n",
        "export_model.predict(examples)"
      ],
      "execution_count": 21,
      "outputs": [
        {
          "output_type": "execute_result",
          "data": {
            "text/plain": [
              "array([[0.11343548],\n",
              "       [0.14677629],\n",
              "       [0.7800406 ]], dtype=float32)"
            ]
          },
          "metadata": {},
          "execution_count": 21
        }
      ]
    },
    {
      "cell_type": "code",
      "metadata": {
        "id": "UBPSIhYX3pHM",
        "outputId": "338be5f4-3344-44f7-c353-73a6d2f485ec",
        "colab": {
          "base_uri": "https://localhost:8080/"
        }
      },
      "source": [
        "export_model.save(\"export_basic_classification\")"
      ],
      "execution_count": 23,
      "outputs": [
        {
          "output_type": "stream",
          "name": "stdout",
          "text": [
            "INFO:tensorflow:Assets written to: export_basic_classification/assets\n"
          ]
        }
      ]
    },
    {
      "cell_type": "code",
      "metadata": {
        "id": "PDB_LUCsINLo",
        "outputId": "77d02d65-5ca8-43ab-f040-4362be4edadf",
        "colab": {
          "base_uri": "https://localhost:8080/"
        }
      },
      "source": [
        "new_model = tf.keras.models.load_model('export_basic_classification')\n",
        "new_model.summary()"
      ],
      "execution_count": 24,
      "outputs": [
        {
          "output_type": "stream",
          "name": "stdout",
          "text": [
            "Model: \"sequential_1\"\n",
            "_________________________________________________________________\n",
            "Layer (type)                 Output Shape              Param #   \n",
            "=================================================================\n",
            "text_vectorization (TextVect (None, None)              0         \n",
            "_________________________________________________________________\n",
            "sequential (Sequential)      (None, 1)                 160033    \n",
            "_________________________________________________________________\n",
            "activation (Activation)      (None, 1)                 0         \n",
            "=================================================================\n",
            "Total params: 160,033\n",
            "Trainable params: 160,033\n",
            "Non-trainable params: 0\n",
            "_________________________________________________________________\n"
          ]
        }
      ]
    },
    {
      "cell_type": "code",
      "metadata": {
        "id": "sj8c34VBqMvw"
      },
      "source": [
        ""
      ],
      "execution_count": null,
      "outputs": []
    }
  ]
}